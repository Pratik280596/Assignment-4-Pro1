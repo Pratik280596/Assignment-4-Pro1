{
 "cells": [
  {
   "cell_type": "code",
   "execution_count": null,
   "id": "3d7b9dc7",
   "metadata": {},
   "outputs": [],
   "source": [
    "#Write a Python program to create a lambda function that adds 25 to a given number passed in as an argument."
   ]
  },
  {
   "cell_type": "code",
   "execution_count": 2,
   "id": "a8a5e396",
   "metadata": {},
   "outputs": [
    {
     "name": "stdout",
     "output_type": "stream",
     "text": [
      "10\n",
      "35\n"
     ]
    }
   ],
   "source": [
    "#Assigning values to veriable r\n",
    "r = 10\n",
    "\n",
    "#printing r\n",
    "print(r)\n",
    "\n",
    "#Creatinf lambda function and adding 25 in it.\n",
    "r = lambda a : a + 25\n",
    "\n",
    "#after operation printinting r\n",
    "print(r(10))"
   ]
  },
  {
   "cell_type": "code",
   "execution_count": null,
   "id": "e3a997a4",
   "metadata": {},
   "outputs": [],
   "source": []
  }
 ],
 "metadata": {
  "kernelspec": {
   "display_name": "Python 3 (ipykernel)",
   "language": "python",
   "name": "python3"
  },
  "language_info": {
   "codemirror_mode": {
    "name": "ipython",
    "version": 3
   },
   "file_extension": ".py",
   "mimetype": "text/x-python",
   "name": "python",
   "nbconvert_exporter": "python",
   "pygments_lexer": "ipython3",
   "version": "3.7.0"
  }
 },
 "nbformat": 4,
 "nbformat_minor": 5
}
